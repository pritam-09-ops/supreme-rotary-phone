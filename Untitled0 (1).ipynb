{
  "nbformat": 4,
  "nbformat_minor": 0,
  "metadata": {
    "colab": {
      "provenance": [],
      "toc_visible": true
    },
    "kernelspec": {
      "name": "python3",
      "display_name": "Python 3"
    },
    "language_info": {
      "name": "python"
    }
  },
  "cells": [
    {
      "cell_type": "code",
      "source": [
        "def lesser_of_two_evens(a, b):\n",
        "    if a % 2 == 0 and b % 2 == 0:\n",
        "        return min(a, b)\n",
        "    else:\n",
        "        return max(a, b)\n",
        "\n",
        "\n",
        "a = int(input(\"Enter first number (a): \"))\n",
        "b = int(input(\"Enter second number (b): \"))\n",
        "\n",
        "result = lesser_of_two_evens(a, b)\n",
        "print(\"Result:\", result)\n"
      ],
      "metadata": {
        "colab": {
          "base_uri": "https://localhost:8080/"
        },
        "id": "JMdJdUjl9GK6",
        "outputId": "9ba6a0f0-b0c4-4d3b-c8bb-508ca2b6d00f"
      },
      "execution_count": null,
      "outputs": [
        {
          "output_type": "stream",
          "name": "stdout",
          "text": [
            "Enter first number (a): 2\n",
            "Enter second number (b): 4\n",
            "Result: 2\n"
          ]
        }
      ]
    },
    {
      "cell_type": "code",
      "source": [
        "def same_letter(text):\n",
        "    words = text.strip().lower().split()\n",
        "    if len(words) != 2:\n",
        "        return False\n",
        "    return words[0][0] == words[1][0]\n",
        "\n",
        "\n",
        "user_input = input(\"Enter two words: \")\n",
        "\n",
        "\n",
        "result = same_letter(user_input)\n",
        "print(\"Same starting letter:\", result)\n"
      ],
      "metadata": {
        "colab": {
          "base_uri": "https://localhost:8080/"
        },
        "id": "WFHKgtsuJsRz",
        "outputId": "97fbea72-b7b7-48cf-e64b-52e2f8655c7a"
      },
      "execution_count": null,
      "outputs": [
        {
          "output_type": "stream",
          "name": "stdout",
          "text": [
            "Enter two words: uio pion\n",
            "Same starting letter: False\n"
          ]
        }
      ]
    },
    {
      "cell_type": "code",
      "source": [
        "def makes_twenty(a, b):\n",
        "    return a == 20 or b == 20 or (a + b) == 20\n",
        "\n",
        "\n",
        "a = int(input(\"Enter the first number: \"))\n",
        "b = int(input(\"Enter the second number: \"))\n",
        "\n",
        "\n",
        "result = makes_twenty(a, b)\n",
        "print(\"Result:\", result)\n"
      ],
      "metadata": {
        "colab": {
          "base_uri": "https://localhost:8080/"
        },
        "id": "LQVqlUTALVpL",
        "outputId": "aed80c3d-6cdf-4334-95bb-fd8ad799f9c7"
      },
      "execution_count": null,
      "outputs": [
        {
          "output_type": "stream",
          "name": "stdout",
          "text": [
            "Enter the first number: 9\n",
            "Enter the second number: 20\n",
            "Result: True\n"
          ]
        }
      ]
    },
    {
      "cell_type": "code",
      "source": [
        "def old_macdonald(name):\n",
        "    if len(name) < 4:\n",
        "        return \"error !\"\n",
        "    return name[0].upper() + name[1:3] + name[3].upper() + name[4:]\n",
        "print(old_macdonald(\"macdonald\"))\n"
      ],
      "metadata": {
        "colab": {
          "base_uri": "https://localhost:8080/"
        },
        "id": "DTtgCaIIUIU3",
        "outputId": "3a1cc210-e516-4db8-9bba-f4dacc266b1f"
      },
      "execution_count": null,
      "outputs": [
        {
          "output_type": "stream",
          "name": "stdout",
          "text": [
            "MacDonald\n"
          ]
        }
      ]
    },
    {
      "cell_type": "code",
      "source": [
        "# Take input from the user\n",
        "text = input(\"Enter a sentence: \")\n",
        "\n",
        "# Split into words, reverse the list, then join them back into a string\n",
        "reversed_words = ' '.join(text.split()[::-1])\n",
        "\n",
        "# Print the result\n",
        "print(\"Reversed:\", reversed_words)\n"
      ],
      "metadata": {
        "colab": {
          "base_uri": "https://localhost:8080/"
        },
        "id": "SlqhojNgTDwD",
        "outputId": "1239db4a-ceaa-4859-dcf1-75489ea32949"
      },
      "execution_count": null,
      "outputs": [
        {
          "output_type": "stream",
          "name": "stdout",
          "text": [
            "Enter a sentence: apple angry\n",
            "Reversed: angry apple\n"
          ]
        }
      ]
    },
    {
      "cell_type": "code",
      "source": [
        "def almost_there(n):\n",
        "    return abs(100 - n) <= 10 or abs(200 - n) <= 10\n",
        "print(almost_there(90))\n",
        "\n",
        "\n",
        "\n"
      ],
      "metadata": {
        "id": "Cds_eZ-1Vqcm",
        "colab": {
          "base_uri": "https://localhost:8080/"
        },
        "outputId": "64ad5c5f-ca40-4fb5-91f2-fdd692aa994f"
      },
      "execution_count": null,
      "outputs": [
        {
          "output_type": "stream",
          "name": "stdout",
          "text": [
            "True\n"
          ]
        }
      ]
    },
    {
      "cell_type": "code",
      "source": [
        "def paper_doll(text):\n",
        "    result = ''\n",
        "    for char in text:\n",
        "        result += char * 3\n",
        "    return result\n",
        "print(paper_doll('Mississippi'))\n",
        "\n",
        "\n"
      ],
      "metadata": {
        "colab": {
          "base_uri": "https://localhost:8080/"
        },
        "id": "tYg8memtBwEC",
        "outputId": "e1bf3898-82ec-4c4f-a3a8-7b2323d6c297"
      },
      "execution_count": null,
      "outputs": [
        {
          "output_type": "stream",
          "name": "stdout",
          "text": [
            "MMMiiissssssiiissssssiiippppppiii\n"
          ]
        }
      ]
    },
    {
      "cell_type": "code",
      "source": [
        "def blackjack(a, b, c):\n",
        "    total = a + b + c\n",
        "    if total <= 21:\n",
        "        return total\n",
        "    elif 11 in (a, b, c) and total > 21:\n",
        "        total -= 10\n",
        "        if total <= 21:\n",
        "            return total\n",
        "    return 'BUST'\n"
      ],
      "metadata": {
        "id": "OPYLqCMBCDYk"
      },
      "execution_count": null,
      "outputs": []
    },
    {
      "cell_type": "code",
      "source": [
        "\n",
        "\n",
        "def summer_69(arr):\n",
        "    total = 0\n",
        "    add = True\n",
        "    for num in arr:\n",
        "        if add:\n",
        "            if num == 6:\n",
        "                add = False\n",
        "            else:\n",
        "                total += num\n",
        "        else:\n",
        "            if num == 9:\n",
        "                add = True\n",
        "    return total\n"
      ],
      "metadata": {
        "id": "y__ZyFaZNfoS"
      },
      "execution_count": null,
      "outputs": []
    },
    {
      "cell_type": "code",
      "source": [
        "def spy_game(nums):\n",
        "    code = [0, 0, 7]\n",
        "    for num in nums:\n",
        "        if num == code[0]:\n",
        "            code.pop(0)\n",
        "        if not code:  # if the code list is empty, all numbers matched\n",
        "            return True\n",
        "    return False\n"
      ],
      "metadata": {
        "id": "RRoRpXBaPEt4"
      },
      "execution_count": null,
      "outputs": []
    },
    {
      "cell_type": "code",
      "source": [
        "def count_primes(n):\n",
        "    def is_prime(num):\n",
        "        if num < 2:\n",
        "            return False\n",
        "        for i in range(2, num):\n",
        "            if num % i == 0:\n",
        "                return False\n",
        "        return True\n",
        "\n",
        "    count = 0\n",
        "    for i in range(2, n + 1):\n",
        "        if is_prime(i):\n",
        "            count += 1\n",
        "    return count\n"
      ],
      "metadata": {
        "id": "d1LtY3asPUpz"
      },
      "execution_count": null,
      "outputs": []
    },
    {
      "cell_type": "markdown",
      "source": [
        "# python statement"
      ],
      "metadata": {
        "id": "9fXP1CBzPX7d"
      }
    },
    {
      "cell_type": "code",
      "source": [
        "st = 'Print only the words that start with s in this sentence'\n",
        "\n",
        "for word in st.split():\n",
        "    if word.startswith('s'):\n",
        "        print(word)\n"
      ],
      "metadata": {
        "id": "gncRyn6oPc-G",
        "colab": {
          "base_uri": "https://localhost:8080/"
        },
        "outputId": "683143da-dac0-41cf-c121-b7374ce4269a"
      },
      "execution_count": 21,
      "outputs": [
        {
          "output_type": "stream",
          "name": "stdout",
          "text": [
            "start\n",
            "s\n",
            "sentence\n"
          ]
        }
      ]
    },
    {
      "cell_type": "code",
      "source": [
        "for num in range(0, 11, 2):\n",
        "    print(num)\n"
      ],
      "metadata": {
        "colab": {
          "base_uri": "https://localhost:8080/"
        },
        "id": "i_rEaa-P0Egm",
        "outputId": "1d27501c-d472-40da-ebe5-7f66e70bff55"
      },
      "execution_count": 22,
      "outputs": [
        {
          "output_type": "stream",
          "name": "stdout",
          "text": [
            "0\n",
            "2\n",
            "4\n",
            "6\n",
            "8\n",
            "10\n"
          ]
        }
      ]
    },
    {
      "cell_type": "code",
      "source": [
        "result = [num for num in range(1, 51) if num % 3 == 0]\n",
        "print(result)\n"
      ],
      "metadata": {
        "colab": {
          "base_uri": "https://localhost:8080/"
        },
        "id": "DY4zgnS80HkI",
        "outputId": "063fdd4c-5b7e-4807-9bb7-b09d0e90136a"
      },
      "execution_count": 23,
      "outputs": [
        {
          "output_type": "stream",
          "name": "stdout",
          "text": [
            "[3, 6, 9, 12, 15, 18, 21, 24, 27, 30, 33, 36, 39, 42, 45, 48]\n"
          ]
        }
      ]
    },
    {
      "cell_type": "code",
      "source": [
        "st = 'Print every word in this sentence that has an even number of letters'\n",
        "\n",
        "for word in st.split():\n",
        "    if len(word) % 2 == 0:\n",
        "        print(f\"{word} --> even!\")\n"
      ],
      "metadata": {
        "colab": {
          "base_uri": "https://localhost:8080/"
        },
        "id": "qpOgsdyo0dFQ",
        "outputId": "7282718c-3d19-4966-c120-e795a420cc0b"
      },
      "execution_count": 24,
      "outputs": [
        {
          "output_type": "stream",
          "name": "stdout",
          "text": [
            "word --> even!\n",
            "in --> even!\n",
            "this --> even!\n",
            "sentence --> even!\n",
            "that --> even!\n",
            "an --> even!\n",
            "even --> even!\n",
            "number --> even!\n",
            "of --> even!\n"
          ]
        }
      ]
    },
    {
      "cell_type": "code",
      "source": [
        "\n",
        "for num in range(1, 101):\n",
        "    if num % 3 == 0 and num % 5 == 0:\n",
        "        print(\"FizzBuzz\")\n",
        "    elif num % 3 == 0:\n",
        "        print(\"Fizz\")\n",
        "    elif num % 5 == 0:\n",
        "        print(\"Buzz\")\n",
        "    else:\n",
        "        print(num)"
      ],
      "metadata": {
        "colab": {
          "base_uri": "https://localhost:8080/"
        },
        "id": "rFd2-QJA1ZpA",
        "outputId": "24d56234-44ce-4331-b0b4-44c6bb8e1508"
      },
      "execution_count": 25,
      "outputs": [
        {
          "output_type": "stream",
          "name": "stdout",
          "text": [
            "1\n",
            "2\n",
            "Fizz\n",
            "4\n",
            "Buzz\n",
            "Fizz\n",
            "7\n",
            "8\n",
            "Fizz\n",
            "Buzz\n",
            "11\n",
            "Fizz\n",
            "13\n",
            "14\n",
            "FizzBuzz\n",
            "16\n",
            "17\n",
            "Fizz\n",
            "19\n",
            "Buzz\n",
            "Fizz\n",
            "22\n",
            "23\n",
            "Fizz\n",
            "Buzz\n",
            "26\n",
            "Fizz\n",
            "28\n",
            "29\n",
            "FizzBuzz\n",
            "31\n",
            "32\n",
            "Fizz\n",
            "34\n",
            "Buzz\n",
            "Fizz\n",
            "37\n",
            "38\n",
            "Fizz\n",
            "Buzz\n",
            "41\n",
            "Fizz\n",
            "43\n",
            "44\n",
            "FizzBuzz\n",
            "46\n",
            "47\n",
            "Fizz\n",
            "49\n",
            "Buzz\n",
            "Fizz\n",
            "52\n",
            "53\n",
            "Fizz\n",
            "Buzz\n",
            "56\n",
            "Fizz\n",
            "58\n",
            "59\n",
            "FizzBuzz\n",
            "61\n",
            "62\n",
            "Fizz\n",
            "64\n",
            "Buzz\n",
            "Fizz\n",
            "67\n",
            "68\n",
            "Fizz\n",
            "Buzz\n",
            "71\n",
            "Fizz\n",
            "73\n",
            "74\n",
            "FizzBuzz\n",
            "76\n",
            "77\n",
            "Fizz\n",
            "79\n",
            "Buzz\n",
            "Fizz\n",
            "82\n",
            "83\n",
            "Fizz\n",
            "Buzz\n",
            "86\n",
            "Fizz\n",
            "88\n",
            "89\n",
            "FizzBuzz\n",
            "91\n",
            "92\n",
            "Fizz\n",
            "94\n",
            "Buzz\n",
            "Fizz\n",
            "97\n",
            "98\n",
            "Fizz\n",
            "Buzz\n"
          ]
        }
      ]
    },
    {
      "cell_type": "code",
      "source": [
        "st = 'Create a list of the first letters of every word in this string'\n",
        "\n",
        "first_letters = [word[0] for word in st.split()]\n",
        "print(first_letters)\n"
      ],
      "metadata": {
        "colab": {
          "base_uri": "https://localhost:8080/"
        },
        "id": "tFv9g6Xq1vWQ",
        "outputId": "2e1e82ab-599b-4e8c-dfc1-0c6591da89c8"
      },
      "execution_count": 26,
      "outputs": [
        {
          "output_type": "stream",
          "name": "stdout",
          "text": [
            "['C', 'a', 'l', 'o', 't', 'f', 'l', 'o', 'e', 'w', 'i', 't', 's']\n"
          ]
        }
      ]
    },
    {
      "cell_type": "markdown",
      "source": [
        "numpy\n"
      ],
      "metadata": {
        "id": "xOE8jbBWEw8J"
      }
    },
    {
      "cell_type": "markdown",
      "source": [
        "# New Section"
      ],
      "metadata": {
        "id": "6dV-NPQZFJKH"
      }
    },
    {
      "cell_type": "code",
      "source": [
        "import numpy as np\n",
        "\n",
        "arr = np.array([[1, 2, 4], [7, 13, 21]])\n",
        "print(arr)\n",
        "print(\"Shape:\", arr.shape)\n"
      ],
      "metadata": {
        "colab": {
          "base_uri": "https://localhost:8080/"
        },
        "id": "xmxBIQ2SDNFb",
        "outputId": "b42d49e3-7041-4e87-8f50-fafdc5628333"
      },
      "execution_count": 27,
      "outputs": [
        {
          "output_type": "stream",
          "name": "stdout",
          "text": [
            "[[ 1  2  4]\n",
            " [ 7 13 21]]\n",
            "Shape: (2, 3)\n"
          ]
        }
      ]
    },
    {
      "cell_type": "code",
      "source": [
        "n_rows = 2\n",
        "n_columns = 3\n",
        "x = np.random.randn(n_rows, n_columns)\n",
        "print(x)\n"
      ],
      "metadata": {
        "colab": {
          "base_uri": "https://localhost:8080/"
        },
        "id": "ueBHJBBBDqT3",
        "outputId": "705d2b5a-fee9-4806-843a-861f2750dbf5"
      },
      "execution_count": 28,
      "outputs": [
        {
          "output_type": "stream",
          "name": "stdout",
          "text": [
            "[[-0.45579384  0.183122   -2.25907578]\n",
            " [ 1.14303528  0.76923263  1.71545287]]\n"
          ]
        }
      ]
    },
    {
      "cell_type": "code",
      "source": [
        "ZERO_ARR = np.zeros((4, 5, 2))\n",
        "ONE_ARR = np.ones((4, 5, 2))\n",
        "print(ZERO_ARR)\n",
        "print(ONE_ARR)\n"
      ],
      "metadata": {
        "colab": {
          "base_uri": "https://localhost:8080/"
        },
        "id": "Q80GZU4TDywV",
        "outputId": "71e875fc-2613-4e4b-c799-139f2f95098c"
      },
      "execution_count": 29,
      "outputs": [
        {
          "output_type": "stream",
          "name": "stdout",
          "text": [
            "[[[0. 0.]\n",
            "  [0. 0.]\n",
            "  [0. 0.]\n",
            "  [0. 0.]\n",
            "  [0. 0.]]\n",
            "\n",
            " [[0. 0.]\n",
            "  [0. 0.]\n",
            "  [0. 0.]\n",
            "  [0. 0.]\n",
            "  [0. 0.]]\n",
            "\n",
            " [[0. 0.]\n",
            "  [0. 0.]\n",
            "  [0. 0.]\n",
            "  [0. 0.]\n",
            "  [0. 0.]]\n",
            "\n",
            " [[0. 0.]\n",
            "  [0. 0.]\n",
            "  [0. 0.]\n",
            "  [0. 0.]\n",
            "  [0. 0.]]]\n",
            "[[[1. 1.]\n",
            "  [1. 1.]\n",
            "  [1. 1.]\n",
            "  [1. 1.]\n",
            "  [1. 1.]]\n",
            "\n",
            " [[1. 1.]\n",
            "  [1. 1.]\n",
            "  [1. 1.]\n",
            "  [1. 1.]\n",
            "  [1. 1.]]\n",
            "\n",
            " [[1. 1.]\n",
            "  [1. 1.]\n",
            "  [1. 1.]\n",
            "  [1. 1.]\n",
            "  [1. 1.]]\n",
            "\n",
            " [[1. 1.]\n",
            "  [1. 1.]\n",
            "  [1. 1.]\n",
            "  [1. 1.]\n",
            "  [1. 1.]]]\n"
          ]
        }
      ]
    },
    {
      "cell_type": "code",
      "source": [
        "import numpy as np\n",
        "\n",
        "# Define y as a 2x3 array\n",
        "y = np.array([[1, 2, 3],\n",
        "              [4, 5, 6]])\n",
        "\n",
        "# Reshape y into a 6x1 column vector\n",
        "y_flat = y.reshape(6, 1)\n",
        "\n",
        "print(y_flat)\n",
        "\n"
      ],
      "metadata": {
        "colab": {
          "base_uri": "https://localhost:8080/"
        },
        "id": "HS_RWPjiD205",
        "outputId": "4a714676-a7ec-4199-979b-f515c4b8d26a"
      },
      "execution_count": 30,
      "outputs": [
        {
          "output_type": "stream",
          "name": "stdout",
          "text": [
            "[[1]\n",
            " [2]\n",
            " [3]\n",
            " [4]\n",
            " [5]\n",
            " [6]]\n"
          ]
        }
      ]
    },
    {
      "cell_type": "code",
      "source": [
        "y = np.array([[4], [7], [11]])\n",
        "print(y)\n",
        "print(y.shape)\n"
      ],
      "metadata": {
        "colab": {
          "base_uri": "https://localhost:8080/"
        },
        "id": "xRI3frteEAwa",
        "outputId": "ffaa3dc8-8133-416d-b229-e2abe33cbd2a"
      },
      "execution_count": 31,
      "outputs": [
        {
          "output_type": "stream",
          "name": "stdout",
          "text": [
            "[[ 4]\n",
            " [ 7]\n",
            " [11]]\n",
            "(3, 1)\n"
          ]
        }
      ]
    },
    {
      "cell_type": "code",
      "source": [
        "x = np.array([4, 1, 5, 6, 11])\n",
        "y = x[1:4]\n",
        "print(y)\n"
      ],
      "metadata": {
        "colab": {
          "base_uri": "https://localhost:8080/"
        },
        "id": "NTcW0aaAEJwP",
        "outputId": "f7c777f4-d841-4a96-fe33-491982053182"
      },
      "execution_count": 32,
      "outputs": [
        {
          "output_type": "stream",
          "name": "stdout",
          "text": [
            "[1 5 6]\n"
          ]
        }
      ]
    },
    {
      "cell_type": "code",
      "source": [
        "z = np.array([1, 2, 3, 4, 5, 6, 7, 8, 9, 10])\n",
        "w = z[::2]\n",
        "print(w)\n"
      ],
      "metadata": {
        "colab": {
          "base_uri": "https://localhost:8080/"
        },
        "id": "kJg0bzcwEOIp",
        "outputId": "b8a2f584-2f70-4fc9-d5b4-56c8eb819f2d"
      },
      "execution_count": 33,
      "outputs": [
        {
          "output_type": "stream",
          "name": "stdout",
          "text": [
            "[1 3 5 7 9]\n"
          ]
        }
      ]
    },
    {
      "cell_type": "code",
      "source": [
        "arr_2d = np.array([[4, 5, 2],\n",
        "                   [3, 7, 9],\n",
        "                   [1, 4, 5],\n",
        "                   [6, 6, 1]])\n",
        "sliced_arr_2d = arr_2d[0:3, 1:3]\n",
        "print(sliced_arr_2d)\n"
      ],
      "metadata": {
        "colab": {
          "base_uri": "https://localhost:8080/"
        },
        "id": "jei4C39wEPZY",
        "outputId": "f9556248-9a2e-4d06-a128-9e2ffabfada7"
      },
      "execution_count": 34,
      "outputs": [
        {
          "output_type": "stream",
          "name": "stdout",
          "text": [
            "[[5 2]\n",
            " [7 9]\n",
            " [4 5]]\n"
          ]
        }
      ]
    },
    {
      "cell_type": "code",
      "source": [
        "arr1 = np.array([1, 2, 3, 4])\n",
        "b = 1\n",
        "arr1_broadcasted = arr1 + b\n",
        "print(arr1_broadcasted)\n"
      ],
      "metadata": {
        "colab": {
          "base_uri": "https://localhost:8080/"
        },
        "id": "-LKsoxLaEPqf",
        "outputId": "f3bd53d1-c5de-476e-b36e-3c44a9beede6"
      },
      "execution_count": 35,
      "outputs": [
        {
          "output_type": "stream",
          "name": "stdout",
          "text": [
            "[2 3 4 5]\n"
          ]
        }
      ]
    },
    {
      "cell_type": "code",
      "source": [
        "arr2 = np.array([[1, 2, 3], [4, 5, 6]])\n",
        "arr3 = np.array([[4], [5]])\n",
        "arr2_broadcasted = arr2 * arr3\n",
        "print(arr2_broadcasted)\n"
      ],
      "metadata": {
        "colab": {
          "base_uri": "https://localhost:8080/"
        },
        "id": "2IKjqUUGEP9-",
        "outputId": "a03929e4-ddd0-407e-e317-1a9626b59f4c"
      },
      "execution_count": 36,
      "outputs": [
        {
          "output_type": "stream",
          "name": "stdout",
          "text": [
            "[[ 4  8 12]\n",
            " [20 25 30]]\n"
          ]
        }
      ]
    },
    {
      "cell_type": "code",
      "source": [
        "arr_nonvectorized = np.random.rand(1000, 1000)\n",
        "for i in range(arr_nonvectorized.shape[0]):\n",
        "    for j in range(arr_nonvectorized.shape[1]):\n",
        "        arr_nonvectorized[i, j] *= 3\n"
      ],
      "metadata": {
        "id": "8E8heGh3Efpg"
      },
      "execution_count": 37,
      "outputs": []
    },
    {
      "cell_type": "code",
      "source": [
        "arr_vectorized = np.random.rand(1000, 1000)\n",
        "arr_vectorized = arr_vectorized * 3\n"
      ],
      "metadata": {
        "id": "ieauGhsHEjhJ"
      },
      "execution_count": 38,
      "outputs": []
    },
    {
      "cell_type": "markdown",
      "source": [
        "pandas\n"
      ],
      "metadata": {
        "id": "QVP85jiXFORs"
      }
    },
    {
      "cell_type": "markdown",
      "source": [
        "# New Section"
      ],
      "metadata": {
        "id": "XvdRKjwkFn9B"
      }
    },
    {
      "cell_type": "code",
      "metadata": {
        "colab": {
          "base_uri": "https://localhost:8080/",
          "height": 91
        },
        "id": "c22f4d66",
        "outputId": "f9124821-3e0e-41ff-8786-f75bb9fc3324"
      },
      "source": [
        "from google.colab import files\n",
        "\n",
        "uploaded = files.upload()\n",
        "\n",
        "for fn in uploaded.keys():\n",
        "  print('User uploaded file \"{name}\" with length {length} bytes'.format(\n",
        "      name=fn, length=len(uploaded[fn])))"
      ],
      "execution_count": 44,
      "outputs": [
        {
          "output_type": "display_data",
          "data": {
            "text/plain": [
              "<IPython.core.display.HTML object>"
            ],
            "text/html": [
              "\n",
              "     <input type=\"file\" id=\"files-a2cda3ec-3d70-429d-a489-54169dd035b5\" name=\"files[]\" multiple disabled\n",
              "        style=\"border:none\" />\n",
              "     <output id=\"result-a2cda3ec-3d70-429d-a489-54169dd035b5\">\n",
              "      Upload widget is only available when the cell has been executed in the\n",
              "      current browser session. Please rerun this cell to enable.\n",
              "      </output>\n",
              "      <script>// Copyright 2017 Google LLC\n",
              "//\n",
              "// Licensed under the Apache License, Version 2.0 (the \"License\");\n",
              "// you may not use this file except in compliance with the License.\n",
              "// You may obtain a copy of the License at\n",
              "//\n",
              "//      http://www.apache.org/licenses/LICENSE-2.0\n",
              "//\n",
              "// Unless required by applicable law or agreed to in writing, software\n",
              "// distributed under the License is distributed on an \"AS IS\" BASIS,\n",
              "// WITHOUT WARRANTIES OR CONDITIONS OF ANY KIND, either express or implied.\n",
              "// See the License for the specific language governing permissions and\n",
              "// limitations under the License.\n",
              "\n",
              "/**\n",
              " * @fileoverview Helpers for google.colab Python module.\n",
              " */\n",
              "(function(scope) {\n",
              "function span(text, styleAttributes = {}) {\n",
              "  const element = document.createElement('span');\n",
              "  element.textContent = text;\n",
              "  for (const key of Object.keys(styleAttributes)) {\n",
              "    element.style[key] = styleAttributes[key];\n",
              "  }\n",
              "  return element;\n",
              "}\n",
              "\n",
              "// Max number of bytes which will be uploaded at a time.\n",
              "const MAX_PAYLOAD_SIZE = 100 * 1024;\n",
              "\n",
              "function _uploadFiles(inputId, outputId) {\n",
              "  const steps = uploadFilesStep(inputId, outputId);\n",
              "  const outputElement = document.getElementById(outputId);\n",
              "  // Cache steps on the outputElement to make it available for the next call\n",
              "  // to uploadFilesContinue from Python.\n",
              "  outputElement.steps = steps;\n",
              "\n",
              "  return _uploadFilesContinue(outputId);\n",
              "}\n",
              "\n",
              "// This is roughly an async generator (not supported in the browser yet),\n",
              "// where there are multiple asynchronous steps and the Python side is going\n",
              "// to poll for completion of each step.\n",
              "// This uses a Promise to block the python side on completion of each step,\n",
              "// then passes the result of the previous step as the input to the next step.\n",
              "function _uploadFilesContinue(outputId) {\n",
              "  const outputElement = document.getElementById(outputId);\n",
              "  const steps = outputElement.steps;\n",
              "\n",
              "  const next = steps.next(outputElement.lastPromiseValue);\n",
              "  return Promise.resolve(next.value.promise).then((value) => {\n",
              "    // Cache the last promise value to make it available to the next\n",
              "    // step of the generator.\n",
              "    outputElement.lastPromiseValue = value;\n",
              "    return next.value.response;\n",
              "  });\n",
              "}\n",
              "\n",
              "/**\n",
              " * Generator function which is called between each async step of the upload\n",
              " * process.\n",
              " * @param {string} inputId Element ID of the input file picker element.\n",
              " * @param {string} outputId Element ID of the output display.\n",
              " * @return {!Iterable<!Object>} Iterable of next steps.\n",
              " */\n",
              "function* uploadFilesStep(inputId, outputId) {\n",
              "  const inputElement = document.getElementById(inputId);\n",
              "  inputElement.disabled = false;\n",
              "\n",
              "  const outputElement = document.getElementById(outputId);\n",
              "  outputElement.innerHTML = '';\n",
              "\n",
              "  const pickedPromise = new Promise((resolve) => {\n",
              "    inputElement.addEventListener('change', (e) => {\n",
              "      resolve(e.target.files);\n",
              "    });\n",
              "  });\n",
              "\n",
              "  const cancel = document.createElement('button');\n",
              "  inputElement.parentElement.appendChild(cancel);\n",
              "  cancel.textContent = 'Cancel upload';\n",
              "  const cancelPromise = new Promise((resolve) => {\n",
              "    cancel.onclick = () => {\n",
              "      resolve(null);\n",
              "    };\n",
              "  });\n",
              "\n",
              "  // Wait for the user to pick the files.\n",
              "  const files = yield {\n",
              "    promise: Promise.race([pickedPromise, cancelPromise]),\n",
              "    response: {\n",
              "      action: 'starting',\n",
              "    }\n",
              "  };\n",
              "\n",
              "  cancel.remove();\n",
              "\n",
              "  // Disable the input element since further picks are not allowed.\n",
              "  inputElement.disabled = true;\n",
              "\n",
              "  if (!files) {\n",
              "    return {\n",
              "      response: {\n",
              "        action: 'complete',\n",
              "      }\n",
              "    };\n",
              "  }\n",
              "\n",
              "  for (const file of files) {\n",
              "    const li = document.createElement('li');\n",
              "    li.append(span(file.name, {fontWeight: 'bold'}));\n",
              "    li.append(span(\n",
              "        `(${file.type || 'n/a'}) - ${file.size} bytes, ` +\n",
              "        `last modified: ${\n",
              "            file.lastModifiedDate ? file.lastModifiedDate.toLocaleDateString() :\n",
              "                                    'n/a'} - `));\n",
              "    const percent = span('0% done');\n",
              "    li.appendChild(percent);\n",
              "\n",
              "    outputElement.appendChild(li);\n",
              "\n",
              "    const fileDataPromise = new Promise((resolve) => {\n",
              "      const reader = new FileReader();\n",
              "      reader.onload = (e) => {\n",
              "        resolve(e.target.result);\n",
              "      };\n",
              "      reader.readAsArrayBuffer(file);\n",
              "    });\n",
              "    // Wait for the data to be ready.\n",
              "    let fileData = yield {\n",
              "      promise: fileDataPromise,\n",
              "      response: {\n",
              "        action: 'continue',\n",
              "      }\n",
              "    };\n",
              "\n",
              "    // Use a chunked sending to avoid message size limits. See b/62115660.\n",
              "    let position = 0;\n",
              "    do {\n",
              "      const length = Math.min(fileData.byteLength - position, MAX_PAYLOAD_SIZE);\n",
              "      const chunk = new Uint8Array(fileData, position, length);\n",
              "      position += length;\n",
              "\n",
              "      const base64 = btoa(String.fromCharCode.apply(null, chunk));\n",
              "      yield {\n",
              "        response: {\n",
              "          action: 'append',\n",
              "          file: file.name,\n",
              "          data: base64,\n",
              "        },\n",
              "      };\n",
              "\n",
              "      let percentDone = fileData.byteLength === 0 ?\n",
              "          100 :\n",
              "          Math.round((position / fileData.byteLength) * 100);\n",
              "      percent.textContent = `${percentDone}% done`;\n",
              "\n",
              "    } while (position < fileData.byteLength);\n",
              "  }\n",
              "\n",
              "  // All done.\n",
              "  yield {\n",
              "    response: {\n",
              "      action: 'complete',\n",
              "    }\n",
              "  };\n",
              "}\n",
              "\n",
              "scope.google = scope.google || {};\n",
              "scope.google.colab = scope.google.colab || {};\n",
              "scope.google.colab._files = {\n",
              "  _uploadFiles,\n",
              "  _uploadFilesContinue,\n",
              "};\n",
              "})(self);\n",
              "</script> "
            ]
          },
          "metadata": {}
        },
        {
          "output_type": "stream",
          "name": "stdout",
          "text": [
            "Saving Salaries.csv to Salaries (2).csv\n",
            "User uploaded file \"Salaries (2).csv\" with length 16257213 bytes\n"
          ]
        }
      ]
    },
    {
      "cell_type": "code",
      "source": [
        "\n",
        "import pandas as pd\n",
        "\n",
        "\n",
        "sal = pd.read_csv('Salaries.csv')\n",
        "\n",
        "\n",
        "sal['BasePay'] = pd.to_numeric(sal['BasePay'], errors='coerce')\n",
        "\n",
        "\n",
        "print(sal.head())\n"
      ],
      "metadata": {
        "colab": {
          "base_uri": "https://localhost:8080/"
        },
        "id": "Ce5-Z0oL5U1K",
        "outputId": "b1ab2e00-2baa-488d-9927-f0ffa2c6bcf6"
      },
      "execution_count": 51,
      "outputs": [
        {
          "output_type": "stream",
          "name": "stdout",
          "text": [
            "   Id       EmployeeName                                        JobTitle  \\\n",
            "0   1     NATHANIEL FORD  GENERAL MANAGER-METROPOLITAN TRANSIT AUTHORITY   \n",
            "1   2       GARY JIMENEZ                 CAPTAIN III (POLICE DEPARTMENT)   \n",
            "2   3     ALBERT PARDINI                 CAPTAIN III (POLICE DEPARTMENT)   \n",
            "3   4  CHRISTOPHER CHONG            WIRE ROPE CABLE MAINTENANCE MECHANIC   \n",
            "4   5    PATRICK GARDNER    DEPUTY CHIEF OF DEPARTMENT,(FIRE DEPARTMENT)   \n",
            "\n",
            "     BasePay OvertimePay   OtherPay Benefits   TotalPay  TotalPayBenefits  \\\n",
            "0  167411.18         0.0  400184.25      NaN  567595.43         567595.43   \n",
            "1  155966.02   245131.88  137811.38      NaN  538909.28         538909.28   \n",
            "2  212739.13   106088.18    16452.6      NaN  335279.91         335279.91   \n",
            "3   77916.00    56120.71   198306.9      NaN  332343.61         332343.61   \n",
            "4  134401.60      9737.0  182234.59      NaN  326373.19         326373.19   \n",
            "\n",
            "   Year  Notes         Agency Status  \n",
            "0  2011    NaN  San Francisco    NaN  \n",
            "1  2011    NaN  San Francisco    NaN  \n",
            "2  2011    NaN  San Francisco    NaN  \n",
            "3  2011    NaN  San Francisco    NaN  \n",
            "4  2011    NaN  San Francisco    NaN  \n"
          ]
        },
        {
          "output_type": "stream",
          "name": "stderr",
          "text": [
            "/tmp/ipython-input-51-176015537.py:4: DtypeWarning: Columns (3,4,5,6,12) have mixed types. Specify dtype option on import or set low_memory=False.\n",
            "  sal = pd.read_csv('Salaries.csv')\n"
          ]
        }
      ]
    },
    {
      "cell_type": "code",
      "source": [
        "print(sal.head())"
      ],
      "metadata": {
        "colab": {
          "base_uri": "https://localhost:8080/"
        },
        "id": "HT_93PDQAfFS",
        "outputId": "0f126973-f687-4f79-b094-eef30251dfa2"
      },
      "execution_count": 52,
      "outputs": [
        {
          "output_type": "stream",
          "name": "stdout",
          "text": [
            "   Id       EmployeeName                                        JobTitle  \\\n",
            "0   1     NATHANIEL FORD  GENERAL MANAGER-METROPOLITAN TRANSIT AUTHORITY   \n",
            "1   2       GARY JIMENEZ                 CAPTAIN III (POLICE DEPARTMENT)   \n",
            "2   3     ALBERT PARDINI                 CAPTAIN III (POLICE DEPARTMENT)   \n",
            "3   4  CHRISTOPHER CHONG            WIRE ROPE CABLE MAINTENANCE MECHANIC   \n",
            "4   5    PATRICK GARDNER    DEPUTY CHIEF OF DEPARTMENT,(FIRE DEPARTMENT)   \n",
            "\n",
            "     BasePay OvertimePay   OtherPay Benefits   TotalPay  TotalPayBenefits  \\\n",
            "0  167411.18         0.0  400184.25      NaN  567595.43         567595.43   \n",
            "1  155966.02   245131.88  137811.38      NaN  538909.28         538909.28   \n",
            "2  212739.13   106088.18    16452.6      NaN  335279.91         335279.91   \n",
            "3   77916.00    56120.71   198306.9      NaN  332343.61         332343.61   \n",
            "4  134401.60      9737.0  182234.59      NaN  326373.19         326373.19   \n",
            "\n",
            "   Year  Notes         Agency Status  \n",
            "0  2011    NaN  San Francisco    NaN  \n",
            "1  2011    NaN  San Francisco    NaN  \n",
            "2  2011    NaN  San Francisco    NaN  \n",
            "3  2011    NaN  San Francisco    NaN  \n",
            "4  2011    NaN  San Francisco    NaN  \n"
          ]
        }
      ]
    },
    {
      "cell_type": "code",
      "source": [
        "print(sal.info())"
      ],
      "metadata": {
        "colab": {
          "base_uri": "https://localhost:8080/"
        },
        "id": "ljrQ_7LrAnx6",
        "outputId": "0f8845fa-eacf-4783-87dd-9a2781a690df"
      },
      "execution_count": 53,
      "outputs": [
        {
          "output_type": "stream",
          "name": "stdout",
          "text": [
            "<class 'pandas.core.frame.DataFrame'>\n",
            "RangeIndex: 148654 entries, 0 to 148653\n",
            "Data columns (total 13 columns):\n",
            " #   Column            Non-Null Count   Dtype  \n",
            "---  ------            --------------   -----  \n",
            " 0   Id                148654 non-null  int64  \n",
            " 1   EmployeeName      148654 non-null  object \n",
            " 2   JobTitle          148654 non-null  object \n",
            " 3   BasePay           148045 non-null  float64\n",
            " 4   OvertimePay       148654 non-null  object \n",
            " 5   OtherPay          148654 non-null  object \n",
            " 6   Benefits          112495 non-null  object \n",
            " 7   TotalPay          148654 non-null  float64\n",
            " 8   TotalPayBenefits  148654 non-null  float64\n",
            " 9   Year              148654 non-null  int64  \n",
            " 10  Notes             0 non-null       float64\n",
            " 11  Agency            148654 non-null  object \n",
            " 12  Status            38119 non-null   object \n",
            "dtypes: float64(4), int64(2), object(7)\n",
            "memory usage: 14.7+ MB\n",
            "None\n"
          ]
        }
      ]
    },
    {
      "cell_type": "code",
      "source": [
        "print(\"Average BasePay:\", sal['BasePay'].mean())"
      ],
      "metadata": {
        "colab": {
          "base_uri": "https://localhost:8080/"
        },
        "id": "sRQNeUqFAoPE",
        "outputId": "e1e79cca-30ab-48a0-e3b1-70881cd5c4a0"
      },
      "execution_count": 54,
      "outputs": [
        {
          "output_type": "stream",
          "name": "stdout",
          "text": [
            "Average BasePay: 66325.4488404877\n"
          ]
        }
      ]
    },
    {
      "cell_type": "code",
      "source": [
        "sal['OvertimePay'] = pd.to_numeric(sal['OvertimePay'], errors='coerce')\n",
        "\n",
        "\n",
        "print(\"Highest OvertimePay:\", sal['OvertimePay'].max())"
      ],
      "metadata": {
        "colab": {
          "base_uri": "https://localhost:8080/"
        },
        "id": "ytgD7rcaAoW7",
        "outputId": "0538154a-197f-413d-a25c-4aca961989fe"
      },
      "execution_count": 67,
      "outputs": [
        {
          "output_type": "stream",
          "name": "stdout",
          "text": [
            "Highest OvertimePay: 245131.88\n"
          ]
        }
      ]
    },
    {
      "cell_type": "code",
      "source": [
        "print(\"Job Title of JOSEPH DRISCOLL:\")\n",
        "print(sal[sal['EmployeeName'] == 'JOSEPH DRISCOLL']['JobTitle'])"
      ],
      "metadata": {
        "colab": {
          "base_uri": "https://localhost:8080/"
        },
        "id": "CdkcjLoXAoZy",
        "outputId": "37b903d8-2e68-4730-85c9-20007343dafb"
      },
      "execution_count": 56,
      "outputs": [
        {
          "output_type": "stream",
          "name": "stdout",
          "text": [
            "Job Title of JOSEPH DRISCOLL:\n",
            "24    CAPTAIN, FIRE SUPPRESSION\n",
            "Name: JobTitle, dtype: object\n"
          ]
        }
      ]
    },
    {
      "cell_type": "code",
      "source": [
        "print(\"TotalPayBenefits of JOSEPH DRISCOLL:\")\n",
        "print(sal[sal['EmployeeName'] == 'JOSEPH DRISCOLL']['TotalPayBenefits'])"
      ],
      "metadata": {
        "colab": {
          "base_uri": "https://localhost:8080/"
        },
        "id": "x-8FunpTAocb",
        "outputId": "c85ce975-f184-4119-c237-cb609482848d"
      },
      "execution_count": 57,
      "outputs": [
        {
          "output_type": "stream",
          "name": "stdout",
          "text": [
            "TotalPayBenefits of JOSEPH DRISCOLL:\n",
            "24    270324.91\n",
            "Name: TotalPayBenefits, dtype: float64\n"
          ]
        }
      ]
    },
    {
      "cell_type": "code",
      "source": [
        "print(\"Highest paid person (including benefits):\")\n",
        "print(sal[sal['TotalPayBenefits'] == sal['TotalPayBenefits'].max()])"
      ],
      "metadata": {
        "colab": {
          "base_uri": "https://localhost:8080/"
        },
        "id": "ZurL_hYsAof4",
        "outputId": "46814931-2cd4-4a0f-fd47-7f1fde51a1cd"
      },
      "execution_count": 58,
      "outputs": [
        {
          "output_type": "stream",
          "name": "stdout",
          "text": [
            "Highest paid person (including benefits):\n",
            "   Id    EmployeeName                                        JobTitle  \\\n",
            "0   1  NATHANIEL FORD  GENERAL MANAGER-METROPOLITAN TRANSIT AUTHORITY   \n",
            "\n",
            "     BasePay OvertimePay   OtherPay Benefits   TotalPay  TotalPayBenefits  \\\n",
            "0  167411.18         0.0  400184.25      NaN  567595.43         567595.43   \n",
            "\n",
            "   Year  Notes         Agency Status  \n",
            "0  2011    NaN  San Francisco    NaN  \n"
          ]
        }
      ]
    },
    {
      "cell_type": "code",
      "source": [
        "print(\"Lowest paid person (including benefits):\")\n",
        "print(sal[sal['TotalPayBenefits'] == sal['TotalPayBenefits'].min()])"
      ],
      "metadata": {
        "colab": {
          "base_uri": "https://localhost:8080/"
        },
        "id": "as73jG6wA9ln",
        "outputId": "43abe486-3ae0-4a58-e43f-168a51733279"
      },
      "execution_count": 59,
      "outputs": [
        {
          "output_type": "stream",
          "name": "stdout",
          "text": [
            "Lowest paid person (including benefits):\n",
            "            Id EmployeeName                    JobTitle  BasePay OvertimePay  \\\n",
            "148653  148654    Joe Lopez  Counselor, Log Cabin Ranch      0.0        0.00   \n",
            "\n",
            "       OtherPay Benefits  TotalPay  TotalPayBenefits  Year  Notes  \\\n",
            "148653  -618.13     0.00   -618.13           -618.13  2014    NaN   \n",
            "\n",
            "               Agency Status  \n",
            "148653  San Francisco     PT  \n"
          ]
        }
      ]
    },
    {
      "cell_type": "code",
      "source": [
        "print(\"Average BasePay by Year:\")\n",
        "print(sal.groupby('Year')['BasePay'].mean())"
      ],
      "metadata": {
        "colab": {
          "base_uri": "https://localhost:8080/"
        },
        "id": "1dVWc-RzA91m",
        "outputId": "4f9004e1-8961-4d05-f8c0-fa2413beb24d"
      },
      "execution_count": 60,
      "outputs": [
        {
          "output_type": "stream",
          "name": "stdout",
          "text": [
            "Average BasePay by Year:\n",
            "Year\n",
            "2011    63595.956517\n",
            "2012    65436.406857\n",
            "2013    69630.030216\n",
            "2014    66564.421924\n",
            "Name: BasePay, dtype: float64\n"
          ]
        }
      ]
    },
    {
      "cell_type": "code",
      "source": [
        "print(\"Unique job titles:\", sal['JobTitle'].nunique())"
      ],
      "metadata": {
        "colab": {
          "base_uri": "https://localhost:8080/"
        },
        "id": "tsswj2NjA94h",
        "outputId": "272c3a15-97d2-4b59-a967-0b4618141294"
      },
      "execution_count": 61,
      "outputs": [
        {
          "output_type": "stream",
          "name": "stdout",
          "text": [
            "Unique job titles: 2159\n"
          ]
        }
      ]
    },
    {
      "cell_type": "code",
      "source": [
        "print(\"Top 5 most common jobs:\")\n",
        "print(sal['JobTitle'].value_counts().head(5))"
      ],
      "metadata": {
        "colab": {
          "base_uri": "https://localhost:8080/"
        },
        "id": "4qzubMlNA976",
        "outputId": "669fbedd-44c2-43f6-94e9-3b897f441309"
      },
      "execution_count": 62,
      "outputs": [
        {
          "output_type": "stream",
          "name": "stdout",
          "text": [
            "Top 5 most common jobs:\n",
            "JobTitle\n",
            "Transit Operator                7036\n",
            "Special Nurse                   4389\n",
            "Registered Nurse                3736\n",
            "Public Svc Aide-Public Works    2518\n",
            "Police Officer 3                2421\n",
            "Name: count, dtype: int64\n"
          ]
        }
      ]
    },
    {
      "cell_type": "code",
      "source": [
        "print(\"Job titles with only one person in 2013:\")\n",
        "print(sum(sal[sal['Year'] == 2013]['JobTitle'].value_counts() == 1))"
      ],
      "metadata": {
        "colab": {
          "base_uri": "https://localhost:8080/"
        },
        "id": "b3ULf7F0BPd4",
        "outputId": "2b4a18a1-7702-4605-ec3b-62cc235842ae"
      },
      "execution_count": 63,
      "outputs": [
        {
          "output_type": "stream",
          "name": "stdout",
          "text": [
            "Job titles with only one person in 2013:\n",
            "202\n"
          ]
        }
      ]
    },
    {
      "cell_type": "code",
      "source": [
        "print(\"Number of people with 'chief' in job title:\")\n",
        "print(sum(sal['JobTitle'].str.lower().str.contains('chief')))"
      ],
      "metadata": {
        "colab": {
          "base_uri": "https://localhost:8080/"
        },
        "id": "y8h0NkdEBPiv",
        "outputId": "a3922c64-b47c-4d76-86d2-056560a9f4d3"
      },
      "execution_count": 64,
      "outputs": [
        {
          "output_type": "stream",
          "name": "stdout",
          "text": [
            "Number of people with 'chief' in job title:\n",
            "627\n"
          ]
        }
      ]
    },
    {
      "cell_type": "code",
      "source": [
        "sal['title_len'] = sal['JobTitle'].apply(len)\n",
        "print(\"Correlation between title length and TotalPayBenefits:\")\n",
        "print(sal[['title_len', 'TotalPayBenefits']].corr())"
      ],
      "metadata": {
        "colab": {
          "base_uri": "https://localhost:8080/"
        },
        "id": "4aAZ1NswBPp3",
        "outputId": "ce4cbbf2-3ac8-4653-af4e-4a619640b9da"
      },
      "execution_count": 65,
      "outputs": [
        {
          "output_type": "stream",
          "name": "stdout",
          "text": [
            "Correlation between title length and TotalPayBenefits:\n",
            "                  title_len  TotalPayBenefits\n",
            "title_len          1.000000         -0.036878\n",
            "TotalPayBenefits  -0.036878          1.000000\n"
          ]
        }
      ]
    },
    {
      "cell_type": "markdown",
      "source": [
        "# New Section"
      ],
      "metadata": {
        "id": "3Q1S_zp7I2pj"
      }
    },
    {
      "cell_type": "code",
      "source": [
        "import matplotlib.pyplot as plt\n",
        "%matplotlib inline\n"
      ],
      "metadata": {
        "id": "Y2jl1uxjItWL"
      },
      "execution_count": 68,
      "outputs": []
    },
    {
      "cell_type": "code",
      "source": [
        "import numpy as np\n",
        "x = np.arange(0,100)\n",
        "y = x*2\n",
        "z = x**2\n"
      ],
      "metadata": {
        "id": "fPb9dw9bJsA6"
      },
      "execution_count": 69,
      "outputs": []
    },
    {
      "cell_type": "code",
      "source": [
        "fig = plt.figure()\n",
        "ax = fig.add_axes([0,0,1,1])\n",
        "ax.plot(x, y)\n",
        "ax.set_xlabel('x')\n",
        "ax.set_ylabel('y')\n",
        "ax.set_title('title')\n"
      ],
      "metadata": {
        "colab": {
          "base_uri": "https://localhost:8080/",
          "height": 599
        },
        "id": "DqY_G1nYJsDl",
        "outputId": "bf9d4542-5f6e-4f42-e7b2-fdd34e797a49"
      },
      "execution_count": 70,
      "outputs": [
        {
          "output_type": "execute_result",
          "data": {
            "text/plain": [
              "Text(0.5, 1.0, 'title')"
            ]
          },
          "metadata": {},
          "execution_count": 70
        },
        {
          "output_type": "display_data",
          "data": {
            "text/plain": [
              "<Figure size 640x480 with 1 Axes>"
            ],
            "image/png": "[encoded data removed]"
          },
          "metadata": {}
        }
      ]
    },
    {
      "cell_type": "code",
      "source": [
        "fig = plt.figure()\n",
        "ax1 = fig.add_axes([0,0,1,1])\n",
        "ax2 = fig.add_axes([0.2,0.5,.2,.2])\n",
        "ax1.plot(x, y)\n",
        "ax2.plot(x, y)\n"
      ],
      "metadata": {
        "colab": {
          "base_uri": "https://localhost:8080/",
          "height": 557
        },
        "id": "oP0BAhJhJsGd",
        "outputId": "43d24c2b-725e-4e16-e96f-e431327aba5d"
      },
      "execution_count": 71,
      "outputs": [
        {
          "output_type": "execute_result",
          "data": {
            "text/plain": [
              "[<matplotlib.lines.Line2D at 0x7b9e68d07f50>]"
            ]
          },
          "metadata": {},
          "execution_count": 71
        },
        {
          "output_type": "display_data",
          "data": {
            "text/plain": [
              "<Figure size 640x480 with 2 Axes>"
            ],
            "image/png": "[encoded data removed]"
          },
          "metadata": {}
        }
      ]
    },
    {
      "cell_type": "code",
      "source": [
        "fig, axes = plt.subplots(nrows=1, ncols=2)\n",
        "axes[0].plot(x, y)\n",
        "axes[1].plot(x, z)\n"
      ],
      "metadata": {
        "colab": {
          "base_uri": "https://localhost:8080/",
          "height": 447
        },
        "id": "tmGjxy5UJsI4",
        "outputId": "232623e1-7459-46f4-818a-a98c0795b777"
      },
      "execution_count": 72,
      "outputs": [
        {
          "output_type": "execute_result",
          "data": {
            "text/plain": [
              "[<matplotlib.lines.Line2D at 0x7b9e69744a50>]"
            ]
          },
          "metadata": {},
          "execution_count": 72
        },
        {
          "output_type": "display_data",
          "data": {
            "text/plain": [
              "<Figure size 640x480 with 2 Axes>"
            ],
            "image/png": "[encoded data removed]"
          },
          "metadata": {}
        }
      ]
    }
  ]
}